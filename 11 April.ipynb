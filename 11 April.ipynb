{
 "cells": [
  {
   "cell_type": "code",
   "execution_count": 1,
   "id": "9b503d40-d878-4de7-bf87-521a25976802",
   "metadata": {},
   "outputs": [
    {
     "data": {
      "text/plain": [
       "'Ensemble methods are techniques that aim at improving the accuracy of results in models by combining multiple models instead\\n   of using a single model. The combined models increase the accuracy of the results significantly. This has boosted the \\n   popularity of ensemble methods in machine learning.\\n   In this ensemble technique, machine learning professionals use a number of models for making predictions about each data \\n   point. The predictions made by different models are taken as separate votes. Subsequently, the prediction made by most\\n   models is treated as the ultimate prediction.\\n   '"
      ]
     },
     "execution_count": 1,
     "metadata": {},
     "output_type": "execute_result"
    }
   ],
   "source": [
    "# Q1\n",
    "'''Ensemble methods are techniques that aim at improving the accuracy of results in models by combining multiple models instead\n",
    "   of using a single model. The combined models increase the accuracy of the results significantly. This has boosted the \n",
    "   popularity of ensemble methods in machine learning.\n",
    "   In this ensemble technique, machine learning professionals use a number of models for making predictions about each data \n",
    "   point. The predictions made by different models are taken as separate votes. Subsequently, the prediction made by most\n",
    "   models is treated as the ultimate prediction.\n",
    "   '''"
   ]
  },
  {
   "cell_type": "code",
   "execution_count": 2,
   "id": "5d327a11-aa7e-48ed-a9d7-e99aa5c2e5fd",
   "metadata": {},
   "outputs": [
    {
     "data": {
      "text/plain": [
       "'There are two main reasons to use an ensemble over a single model, and they are related;\\n   they are:\\n   Performance: An ensemble can make better predictions and achieve better performance than any single contributing model.\\n   Robustness: An ensemble reduces the spread or dispersion of the predictions and model performance.\\n   '"
      ]
     },
     "execution_count": 2,
     "metadata": {},
     "output_type": "execute_result"
    }
   ],
   "source": [
    "# Q2\n",
    "'''There are two main reasons to use an ensemble over a single model, and they are related;\n",
    "   they are:\n",
    "   Performance: An ensemble can make better predictions and achieve better performance than any single contributing model.\n",
    "   Robustness: An ensemble reduces the spread or dispersion of the predictions and model performance.\n",
    "   '''"
   ]
  },
  {
   "cell_type": "code",
   "execution_count": 3,
   "id": "e7300f68-d8d6-4c1d-bea4-e98f772145cc",
   "metadata": {},
   "outputs": [
    {
     "data": {
      "text/plain": [
       "'Bagging, also known as bootstrap aggregation, is the ensemble learning method that is commonly used to reduce variance\\n   within a noisy dataset.\\n   Bagging, also known as bootstrap aggregation, is the ensemble learning method that is commonly used to reduce variance\\n   within a noisy dataset. In bagging, a random sample of data in a training set is selected with replacement—meaning that \\n   the individual data points can be chosen more than once.\\n   '"
      ]
     },
     "execution_count": 3,
     "metadata": {},
     "output_type": "execute_result"
    }
   ],
   "source": [
    "# Q3\n",
    "'''Bagging, also known as bootstrap aggregation, is the ensemble learning method that is commonly used to reduce variance\n",
    "   within a noisy dataset.\n",
    "   Bagging, also known as bootstrap aggregation, is the ensemble learning method that is commonly used to reduce variance\n",
    "   within a noisy dataset. In bagging, a random sample of data in a training set is selected with replacement—meaning that \n",
    "   the individual data points can be chosen more than once.\n",
    "   '''"
   ]
  },
  {
   "cell_type": "code",
   "execution_count": 4,
   "id": "edd2d47e-e5bb-4167-8d87-39e9e3ab90df",
   "metadata": {},
   "outputs": [
    {
     "data": {
      "text/plain": [
       "'Boosting is an ensemble learning method that combines a set of weak learners into a strong learner to minimize training\\n   errors.\\n   Bagging is a method of merging the same type of predictions. Boosting is a method of merging different types of predictions.\\n   Bagging decreases variance, not bias, and solves over-fitting issues in a model. Boosting decreases bias, not variance.\\n   '"
      ]
     },
     "execution_count": 4,
     "metadata": {},
     "output_type": "execute_result"
    }
   ],
   "source": [
    "# Q4\n",
    "'''Boosting is an ensemble learning method that combines a set of weak learners into a strong learner to minimize training\n",
    "   errors.\n",
    "   Bagging is a method of merging the same type of predictions. Boosting is a method of merging different types of predictions.\n",
    "   Bagging decreases variance, not bias, and solves over-fitting issues in a model. Boosting decreases bias, not variance.\n",
    "   '''"
   ]
  },
  {
   "cell_type": "code",
   "execution_count": 5,
   "id": "45650dfd-2733-4623-b2b0-82eabc1228f8",
   "metadata": {},
   "outputs": [
    {
     "data": {
      "text/plain": [
       "'Benefits of ensemble methods:\\n1. Ensemble methods have higher predictive accuracy, compared to the individual models.\\n2. Ensemble methods are very useful when there is both linear and non-linear type of data in the dataset; \\n   different models can be combined to handle this type of data.\\n'"
      ]
     },
     "execution_count": 5,
     "metadata": {},
     "output_type": "execute_result"
    }
   ],
   "source": [
    "# Q5\n",
    "'''Benefits of ensemble methods:\n",
    "1. Ensemble methods have higher predictive accuracy, compared to the individual models.\n",
    "2. Ensemble methods are very useful when there is both linear and non-linear type of data in the dataset; \n",
    "   different models can be combined to handle this type of data.\n",
    "'''"
   ]
  },
  {
   "cell_type": "code",
   "execution_count": 7,
   "id": "ad223f83-ecaf-479d-9d3b-f58f7b7a5725",
   "metadata": {},
   "outputs": [
    {
     "data": {
      "text/plain": [
       "'Ensemble methods have higher predictive accuracy, compared to the individual models. \\n2. Ensemble methods are very useful when there is both linear and non-linear type of data in the dataset; \\n   different models can be combined to handle this type of data.\\n   '"
      ]
     },
     "execution_count": 7,
     "metadata": {},
     "output_type": "execute_result"
    }
   ],
   "source": [
    "# Q6\n",
    "'''Ensemble methods have higher predictive accuracy, compared to the individual models. \n",
    "2. Ensemble methods are very useful when there is both linear and non-linear type of data in the dataset; \n",
    "   different models can be combined to handle this type of data.\n",
    "   '''"
   ]
  },
  {
   "cell_type": "code",
   "execution_count": 8,
   "id": "21888f87-334d-4b7b-b63e-339a15060762",
   "metadata": {},
   "outputs": [
    {
     "data": {
      "text/plain": [
       "'Methods for Bootstrapping Confidence Intervals:\\n1. Start with resampling with replacement from original data n times.\\n2. For each bootstrap calculate mean x*.\\n3. Compute δ* = x* − x for each bootstrap sample (x is mean of original data), sort them from smallest to biggest.\\n4. Choose δ. 1 as the 90th percentile, δ.\\n'"
      ]
     },
     "execution_count": 8,
     "metadata": {},
     "output_type": "execute_result"
    }
   ],
   "source": [
    "# Q7\n",
    "'''Methods for Bootstrapping Confidence Intervals:\n",
    "1. Start with resampling with replacement from original data n times.\n",
    "2. For each bootstrap calculate mean x*.\n",
    "3. Compute δ* = x* − x for each bootstrap sample (x is mean of original data), sort them from smallest to biggest.\n",
    "4. Choose δ. 1 as the 90th percentile, δ.\n",
    "'''"
   ]
  },
  {
   "cell_type": "code",
   "execution_count": 9,
   "id": "d969e3d7-9160-49c6-b171-43cf1de14a34",
   "metadata": {},
   "outputs": [
    {
     "data": {
      "text/plain": [
       "'In statistics, bootstrapping describes the process of resampling a data set to create many simulated samples. \\n   This approach enables users to calculate standard errors, perform hypothesis testing and construct confidence intervals for\\n   different types of sample statistics.\\n1. Choose a number of bootstrap samples to perform.\\n2. Choose a sample size.\\n3. For each bootstrap sample. Draw a sample with replacement with the chosen size. Calculate the statistic on the sample.\\n4. Calculate the mean of the calculated sample statistics.\\n'"
      ]
     },
     "execution_count": 9,
     "metadata": {},
     "output_type": "execute_result"
    }
   ],
   "source": [
    "# Q8\n",
    "'''In statistics, bootstrapping describes the process of resampling a data set to create many simulated samples. \n",
    "   This approach enables users to calculate standard errors, perform hypothesis testing and construct confidence intervals for\n",
    "   different types of sample statistics.\n",
    "1. Choose a number of bootstrap samples to perform.\n",
    "2. Choose a sample size.\n",
    "3. For each bootstrap sample. Draw a sample with replacement with the chosen size. Calculate the statistic on the sample.\n",
    "4. Calculate the mean of the calculated sample statistics.\n",
    "'''"
   ]
  },
  {
   "cell_type": "code",
   "execution_count": null,
   "id": "5d460a67-1874-4a05-ab4d-a40304b36c93",
   "metadata": {},
   "outputs": [],
   "source": [
    "# Q9\n",
    "'''given: number of tree, n = 50\n",
    "      mean hieght of tree, u = 15\n",
    "      standard deviation = 2\n",
    "      confidence interval = 95%\n",
    "    "
   ]
  }
 ],
 "metadata": {
  "kernelspec": {
   "display_name": "Python 3 (ipykernel)",
   "language": "python",
   "name": "python3"
  },
  "language_info": {
   "codemirror_mode": {
    "name": "ipython",
    "version": 3
   },
   "file_extension": ".py",
   "mimetype": "text/x-python",
   "name": "python",
   "nbconvert_exporter": "python",
   "pygments_lexer": "ipython3",
   "version": "3.10.8"
  }
 },
 "nbformat": 4,
 "nbformat_minor": 5
}
